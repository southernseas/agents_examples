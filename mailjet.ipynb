{
 "cells": [
  {
   "cell_type": "markdown",
   "id": "fc0280a2",
   "metadata": {},
   "source": [
    "** Mail jet \n",
    "\n",
    "api call\n",
    "Need to set up the OS variables in .env \n",
    "and run pip install from below"
   ]
  },
  {
   "cell_type": "code",
   "execution_count": 5,
   "id": "a47baa70",
   "metadata": {},
   "outputs": [
    {
     "name": "stdout",
     "output_type": "stream",
     "text": [
      "API key found! Ready to generate email.\n",
      "API decret key found! Ready to generate emails.\n",
      "200\n",
      "{'Sent': [{'Email': 'andy.bush.nz@icloud.com', 'MessageID': 288230407452078884, 'MessageUUID': '0fe287ec-b920-4cbe-b42d-481d85e649c2'}]}\n"
     ]
    }
   ],
   "source": [
    "# !pip install mailjet_rest\n",
    "from mailjet_rest import Client\n",
    "import os\n",
    "from dotenv import load_dotenv\n",
    "\n",
    "load_dotenv(override=True)\n",
    "\n",
    "if not os.getenv(\"MJ_APIKEY_PUBLIC\"):\n",
    "    print(\"Error: MJ_APIKEY_PUBLIC not found!\")\n",
    "    print(\"Please set your mj api key in a .env file\")\n",
    "else:\n",
    "    api_key = os.environ[\"MJ_APIKEY_PUBLIC\"]\n",
    "    print(\"API key found! Ready to generate email.\")\n",
    "\n",
    "if not os.getenv(\"MJ_APIKEY_PRIVATE\"):\n",
    "    print(\"Error: MJ_APIKEY_PRIVATE not found!\")\n",
    "    print(\"Please set your mj api key in a .env file\")\n",
    "else:\n",
    "    api_secret = os.environ[\"MJ_APIKEY_PRIVATE\"]\n",
    "    print(\"API decret key found! Ready to generate emails.\")\n",
    "# api_secret = os.environ[\"MJ_APIKEY_PRIVATE\"]\n",
    "from_email=os.environ[\"FROM_EMAIL\"]\n",
    "to_email=os.environ[\"TO_EMAIL\"]\n",
    "mailjet = Client(auth=(api_key, api_secret))\n",
    "data = {\n",
    "    \"FromEmail\": from_email,\n",
    "    \"FromName\": to_email,\n",
    "    \"Subject\": \"Your email flight plan!\",\n",
    "    \"Text-part\": \"Dear passenger, welcome to Mailjet! May the delivery force be with you!\",\n",
    "    \"Html-part\": '<h3>Dear passenger, welcome to <a href=\"https://www.mailjet.com/\">Mailjet</a>!<br />May the delivery force be with you!',\n",
    "    \"Recipients\": [{\"Email\": to_email}]\n",
    "}\n",
    "result = mailjet.send.create(data=data)\n",
    "print(result.status_code)\n",
    "print(result.json())"
   ]
  },
  {
   "cell_type": "code",
   "execution_count": null,
   "id": "a6b247a2",
   "metadata": {},
   "outputs": [],
   "source": []
  }
 ],
 "metadata": {
  "kernelspec": {
   "display_name": "base",
   "language": "python",
   "name": "python3"
  },
  "language_info": {
   "codemirror_mode": {
    "name": "ipython",
    "version": 3
   },
   "file_extension": ".py",
   "mimetype": "text/x-python",
   "name": "python",
   "nbconvert_exporter": "python",
   "pygments_lexer": "ipython3",
   "version": "3.12.7"
  }
 },
 "nbformat": 4,
 "nbformat_minor": 5
}
