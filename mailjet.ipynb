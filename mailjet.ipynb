{
 "cells": [
  {
   "cell_type": "markdown",
   "id": "fc0280a2",
   "metadata": {},
   "source": [
    "** Mail jet api call\n",
    "Need to set up the OS variables"
   ]
  },
  {
   "cell_type": "code",
   "execution_count": 13,
   "id": "a47baa70",
   "metadata": {},
   "outputs": [
    {
     "name": "stdout",
     "output_type": "stream",
     "text": [
      "API key found! Ready to generate images.\n",
      "Error: MJ_APIKEY_PUBLIC not found!\n",
      "Please set your mj api key in a .env file\n",
      "Error: MJ_APIKEY_SECRET not found!\n",
      "Please set your mj api key in a .env file\n"
     ]
    },
    {
     "ename": "NameError",
     "evalue": "name 'api_key' is not defined",
     "output_type": "error",
     "traceback": [
      "\u001b[0;31m---------------------------------------------------------------------------\u001b[0m",
      "\u001b[0;31mNameError\u001b[0m                                 Traceback (most recent call last)",
      "Cell \u001b[0;32mIn[13], line 30\u001b[0m\n\u001b[1;32m     28\u001b[0m from_email\u001b[38;5;241m=\u001b[39mos\u001b[38;5;241m.\u001b[39menviron[\u001b[38;5;124m\"\u001b[39m\u001b[38;5;124mFROM_EMAIL\u001b[39m\u001b[38;5;124m\"\u001b[39m]\n\u001b[1;32m     29\u001b[0m to_email\u001b[38;5;241m=\u001b[39mos\u001b[38;5;241m.\u001b[39menviron[\u001b[38;5;124m\"\u001b[39m\u001b[38;5;124mTO_EMAIL\u001b[39m\u001b[38;5;124m\"\u001b[39m]\n\u001b[0;32m---> 30\u001b[0m mailjet \u001b[38;5;241m=\u001b[39m Client(auth\u001b[38;5;241m=\u001b[39m(api_key, api_secret))\n\u001b[1;32m     31\u001b[0m data \u001b[38;5;241m=\u001b[39m {\n\u001b[1;32m     32\u001b[0m     \u001b[38;5;124m\"\u001b[39m\u001b[38;5;124mFromEmail\u001b[39m\u001b[38;5;124m\"\u001b[39m: from_email,\n\u001b[1;32m     33\u001b[0m     \u001b[38;5;124m\"\u001b[39m\u001b[38;5;124mFromName\u001b[39m\u001b[38;5;124m\"\u001b[39m: to_email,\n\u001b[0;32m   (...)\u001b[0m\n\u001b[1;32m     37\u001b[0m     \u001b[38;5;124m\"\u001b[39m\u001b[38;5;124mRecipients\u001b[39m\u001b[38;5;124m\"\u001b[39m: [{\u001b[38;5;124m\"\u001b[39m\u001b[38;5;124mEmail\u001b[39m\u001b[38;5;124m\"\u001b[39m: to_email}]\n\u001b[1;32m     38\u001b[0m }\n\u001b[1;32m     39\u001b[0m result \u001b[38;5;241m=\u001b[39m mailjet\u001b[38;5;241m.\u001b[39msend\u001b[38;5;241m.\u001b[39mcreate(data\u001b[38;5;241m=\u001b[39mdata)\n",
      "\u001b[0;31mNameError\u001b[0m: name 'api_key' is not defined"
     ]
    }
   ],
   "source": [
    "# !pip install mailjet_rest\n",
    "from mailjet_rest import Client\n",
    "import os\n",
    "from dotenv import load_dotenv\n",
    "\n",
    "load_dotenv(override=True)\n",
    "\n",
    "if not os.getenv(\"OPENAI_API_KEY\"):\n",
    "    print(\"Error: OPENAI_API_KEY not found!\")\n",
    "    print(\"Please set your OpenAI API key in a .env file\")\n",
    "else:\n",
    "    print(\"API key found! Ready to generate images.\")\n",
    "\n",
    "if not os.getenv(\"MJ_APIKEY_PUBLIC\"):\n",
    "    print(\"Error: MJ_APIKEY_PUBLIC not found!\")\n",
    "    print(\"Please set your mj api key in a .env file\")\n",
    "else:\n",
    "    api_key = os.environ[\"MJ_APIKEY_PUBLIC\"]\n",
    "    print(\"API key found! Ready to generate images.\")\n",
    "\n",
    "if not os.getenv(\"MJ_APIKEY_SECRET\"):\n",
    "    print(\"Error: MJ_APIKEY_SECRET not found!\")\n",
    "    print(\"Please set your mj api key in a .env file\")\n",
    "else:\n",
    "    api_secret = os.environ[\"MJ_APIKEY_SECRET\"]\n",
    "    print(\"API decret key found! Ready to generate images.\")\n",
    "# api_secret = os.environ[\"MJ_APIKEY_PRIVATE\"]\n",
    "from_email=os.environ[\"FROM_EMAIL\"]\n",
    "to_email=os.environ[\"TO_EMAIL\"]\n",
    "mailjet = Client(auth=(api_key, api_secret))\n",
    "data = {\n",
    "    \"FromEmail\": from_email,\n",
    "    \"FromName\": to_email,\n",
    "    \"Subject\": \"Your email flight plan!\",\n",
    "    \"Text-part\": \"Dear passenger, welcome to Mailjet! May the delivery force be with you!\",\n",
    "    \"Html-part\": '<h3>Dear passenger, welcome to <a href=\"https://www.mailjet.com/\">Mailjet</a>!<br />May the delivery force be with you!',\n",
    "    \"Recipients\": [{\"Email\": to_email}]\n",
    "}\n",
    "result = mailjet.send.create(data=data)\n",
    "print(result.status_code)\n",
    "print(result.json())"
   ]
  },
  {
   "cell_type": "code",
   "execution_count": null,
   "id": "a6b247a2",
   "metadata": {},
   "outputs": [],
   "source": []
  }
 ],
 "metadata": {
  "kernelspec": {
   "display_name": "base",
   "language": "python",
   "name": "python3"
  },
  "language_info": {
   "codemirror_mode": {
    "name": "ipython",
    "version": 3
   },
   "file_extension": ".py",
   "mimetype": "text/x-python",
   "name": "python",
   "nbconvert_exporter": "python",
   "pygments_lexer": "ipython3",
   "version": "3.12.7"
  }
 },
 "nbformat": 4,
 "nbformat_minor": 5
}
