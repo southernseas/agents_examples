{
 "cells": [
  {
   "cell_type": "markdown",
   "metadata": {},
   "source": [
    "# OpenAI Image Generation Examples\n",
    "\n",
    "This notebook demonstrates how to generate images using OpenAI's DALL-E models."
   ]
  },
  {
   "cell_type": "code",
   "execution_count": null,
   "metadata": {},
   "outputs": [],
   "source": [
    "import os\n",
    "from openai import OpenAI\n",
    "from dotenv import load_dotenv\n",
    "from IPython.display import Image, display\n",
    "import requests\n",
    "from PIL import Image as PILImage\n",
    "from io import BytesIO\n",
    "\n",
    "# Load environment variables\n",
    "load_dotenv()\n",
    "\n",
    "# Check if API key is available\n",
    "if not os.getenv(\"OPENAI_API_KEY\"):\n",
    "    print(\"Error: OPENAI_API_KEY not found!\")\n",
    "    print(\"Please set your OpenAI API key in a .env file\")\n",
    "else:\n",
    "    print(\"API key found! Ready to generate images.\")"
   ]
  },
  {
   "cell_type": "markdown",
   "metadata": {},
   "source": [
    "## 1. Basic Image Generation with DALL-E 3"
   ]
  },
  {
   "cell_type": "code",
   "execution_count": null,
   "metadata": {},
   "outputs": [],
   "source": [
    "def generate_and_display_image(prompt: str, model: str = \"dall-e-3\"):\n",
    "    \"\"\"Generate and display an image\"\"\"\n",
    "    \n",
    "    client = OpenAI()\n",
    "    \n",
    "    try:\n",
    "        if model == \"dall-e-3\":\n",
    "            response = client.images.generate(\n",
    "                model=\"dall-e-3\",\n",
    "                prompt=prompt,\n",
    "                size=\"1024x1024\",\n",
    "                quality=\"standard\",\n",
    "                n=1\n",
    "            )\n",
    "        else:\n",
    "            response = client.images.generate(\n",
    "                model=\"dall-e-2\",\n",
    "                prompt=prompt,\n",
    "                size=\"1024x1024\",\n",
    "                n=1\n",
    "            )\n",
    "        \n",
    "        image_url = response.data[0].url\n",
    "        print(f\"Generated image URL: {image_url}\")\n",
    "        \n",
    "        # Display the image in the notebook\n",
    "        display(Image(url=image_url))\n",
    "        \n",
    "        return image_url\n",
    "        \n",
    "    except Exception as e:\n",
    "        print(f\"Error generating image: {e}\")\n",
    "        return None"
   ]
  },
  {
   "cell_type": "code",
   "execution_count": null,
   "metadata": {},
   "outputs": [],
   "source": [
    "import requests\n",
    "from datetime import datetime\n",
    "\n",
    "def download_and_save_image(image_url: str, filename: str = None):\n",
    "    \"\"\"Download image from OpenAI URL to permanent storage\"\"\"\n",
    "    \n",
    "    if filename is None:\n",
    "        timestamp = datetime.now().strftime(\"%Y%m%d_%H%M%S\")\n",
    "        filename = f\"generated_image_{timestamp}.png\"\n",
    "    \n",
    "    # Download the image\n",
    "    response = requests.get(image_url)\n",
    "    response.raise_for_status()\n",
    "    \n",
    "    # Save to your local storage or cloud storage\n",
    "    with open(filename, \"wb\") as f:\n",
    "        f.write(response.content)\n",
    "    \n",
    "    print(f\"Image saved permanently as: {filename}\")\n",
    "    return filename\n",
    "\n",
    "download_and_save_image(image_url)"
   ]
  },
  {
   "cell_type": "code",
   "execution_count": null,
   "metadata": {},
   "outputs": [],
   "source": [
    "import requests\n",
    "from datetime import datetime\n",
    "\n",
    "def download_and_save_image(image_url: str, filename: str = None):\n",
    "    \"\"\"Download image from OpenAI URL to permanent storage\"\"\"\n",
    "    \n",
    "    if filename is None:\n",
    "        timestamp = datetime.now().strftime(\"%Y%m%d_%H%M%S\")\n",
    "        filename = f\"generated_image_{timestamp}.png\"\n",
    "    \n",
    "    # Download the image\n",
    "    response = requests.get(image_url)\n",
    "    response.raise_for_status()\n",
    "    \n",
    "    # Save to your local storage or cloud storage\n",
    "    with open(filename, \"wb\") as f:\n",
    "        f.write(response.content)\n",
    "    \n",
    "    print(f\"Image saved permanently as: {filename}\")\n",
    "    return filename\n",
    "filename1=download_and_save_image(image_url)\n",
    "print(filename1 )"
   ]
  },
  {
   "cell_type": "markdown",
   "metadata": {},
   "source": [
    "## 2. DALL-E 2 Generation (Cheaper)"
   ]
  },
  {
   "cell_type": "code",
   "execution_count": null,
   "metadata": {},
   "outputs": [],
   "source": [
    "# Generate with DALL-E 2 (lower cost)\n",
    "prompt2 = \"A cute cartoon cat sitting on a laptop, leonardo divinci simple style\"\n",
    "image_url2 = generate_and_display_image(prompt2, \"dall-e-2\")\n",
    "print(image_url2)\n",
    "download_and_save_image(image_url2)\n"
   ]
  },
  {
   "cell_type": "markdown",
   "metadata": {},
   "source": [
    "## 3. Different Sizes and Styles"
   ]
  },
  {
   "cell_type": "code",
   "execution_count": null,
   "metadata": {},
   "outputs": [],
   "source": [
    "def generate_with_options(prompt: str, size: str = \"1024x1024\", \n",
    "                         quality: str = \"standard\", style: str = \"vivid\"):\n",
    "    \"\"\"Generate image with custom options\"\"\"\n",
    "    \n",
    "    client = OpenAI()\n",
    "    \n",
    "    try:\n",
    "        response = client.images.generate(\n",
    "            model=\"dall-e-3\",\n",
    "            prompt=prompt,\n",
    "            size=size,\n",
    "            quality=quality,\n",
    "            style=style,\n",
    "            n=1\n",
    "        )\n",
    "        \n",
    "        image_url = response.data[0].url\n",
    "        print(f\"Generated {size} image with {style} style: {image_url}\")\n",
    "        \n",
    "        display(Image(url=image_url))\n",
    "        \n",
    "        return image_url\n",
    "        \n",
    "    except Exception as e:\n",
    "        print(f\"Error: {e}\")\n",
    "        return None"
   ]
  },
  {
   "cell_type": "code",
   "execution_count": null,
   "metadata": {},
   "outputs": [],
   "source": [
    "# Tall format image\n",
    "tall_prompt = \"the picture should be in portrait mode. A majestic nz kauri tree reaching high into the clouds with nz punga fern trees either side of it and a kiwi bird in the foreground. \\\n",
    "   there should only be one nz kauri tree \\\n",
    "    the kiwi .the bird is sitting on top of an kiwi egg should be smaller than the kiwi bird.\\\n",
    "        only be one kiwi in the picture.\\\n",
    "              the kiwi egg should be half the size of the kiwi shown unnder the kiwi bird. \\\n",
    "                the egg should be on the ground \\\n",
    "                the egg should be on the ground and the kiwi bird should be on top of the egg\\\n",
    "                    rthe kiwi bird should be looking at the egg. the kiwi should be in the foreground and the tree should be in the background.\\\n",
    "                        priority there should only n there should one egg in the picture\"\n",
    "image_url2=generate_with_options(tall_prompt, size=\"1024x1792\", style=\"vivid\")\n",
    "print(image_url2)\n",
    "download_and_save_image(image_url2)"
   ]
  },
  {
   "cell_type": "code",
   "execution_count": null,
   "metadata": {},
   "outputs": [],
   "source": [
    "download_and_save_image(image_url2)"
   ]
  },
  {
   "cell_type": "markdown",
   "metadata": {},
   "source": [
    "## 4. HD Quality Image"
   ]
  },
  {
   "cell_type": "code",
   "execution_count": null,
   "metadata": {},
   "outputs": [],
   "source": [
    "# Generate HD quality image\n",
    "hd_prompt = \"A detailed portrait of a wise old wizard with magical aura and intricate details\"\n",
    "generate_with_options(hd_prompt, quality=\"hd\", style=\"vivid\")"
   ]
  },
  {
   "cell_type": "markdown",
   "metadata": {},
   "source": [
    "## 5. Interactive Image Generation"
   ]
  },
  {
   "cell_type": "code",
   "execution_count": null,
   "metadata": {},
   "outputs": [],
   "source": [
    "# Try your own prompt!\n",
    "your_prompt = \"A magical forest with glowing mushrooms and fairy lights\"  # Change this!\n",
    "generate_and_display_image(your_prompt, \"dall-e-3\")"
   ]
  },
  {
   "cell_type": "markdown",
   "metadata": {},
   "source": [
    "## 6. Download Images"
   ]
  },
  {
   "cell_type": "code",
   "execution_count": null,
   "metadata": {},
   "outputs": [],
   "source": [
    "def download_image(url: str, filename: str):\n",
    "    \"\"\"Download an image from URL\"\"\"\n",
    "    \n",
    "    try:\n",
    "        response = requests.get(url)\n",
    "        response.raise_for_status()\n",
    "        \n",
    "        # Create images directory\n",
    "        os.makedirs(\"generated_images\", exist_ok=True)\n",
    "        \n",
    "        # Save the image\n",
    "        filepath = f\"generated_images/{filename}.png\"\n",
    "        with open(filepath, \"wb\") as f:\n",
    "            f.write(response.content)\n",
    "        \n",
    "        print(f\"Image saved to: {filepath}\")\n",
    "        return filepath\n",
    "        \n",
    "    except Exception as e:\n",
    "        print(f\"Error downloading image: {e}\")\n",
    "        return None\n",
    "\n",
    "# Example: Download the last generated image\n",
    "# download_image(image_url, \"my_generated_image\")"
   ]
  },
  {
   "cell_type": "markdown",
   "metadata": {},
   "source": [
    "## Tips for Better Prompts\n",
    "\n",
    "- Be specific about style: \"digital art\", \"watercolor\", \"photorealistic\"\n",
    "- Include lighting: \"golden hour\", \"dramatic lighting\", \"soft natural light\"\n",
    "- Specify composition: \"wide shot\", \"close-up\", \"aerial view\"\n",
    "- Add mood: \"serene\", \"dramatic\", \"whimsical\", \"mysterious\"\n",
    "- Include details: \"detailed\", \"high resolution\", \"intricate\""
   ]
  }
 ],
 "metadata": {
  "kernelspec": {
   "display_name": "base",
   "language": "python",
   "name": "python3"
  },
  "language_info": {
   "codemirror_mode": {
    "name": "ipython",
    "version": 3
   },
   "file_extension": ".py",
   "mimetype": "text/x-python",
   "name": "python",
   "nbconvert_exporter": "python",
   "pygments_lexer": "ipython3",
   "version": "3.12.7"
  }
 },
 "nbformat": 4,
 "nbformat_minor": 4
}
